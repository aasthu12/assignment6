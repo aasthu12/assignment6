{
 "cells": [
  {
   "cell_type": "code",
   "execution_count": 1,
   "id": "7bcadf44",
   "metadata": {},
   "outputs": [],
   "source": [
    "'''Q.1. What are keywords in python? Using the keyword library, print all the python keywords.\n",
    "A1. Keywords in python , are reserved words which have a defined purpose in the language and that is the reason that\n",
    "keywords cannot be used as identifiers '''"
   ]
  },
  {
   "cell_type": "code",
   "execution_count": 2,
   "id": "d1f1f54e",
   "metadata": {},
   "outputs": [
    {
     "name": "stdout",
     "output_type": "stream",
     "text": [
      "False\n",
      "None\n",
      "True\n",
      "and\n",
      "as\n",
      "assert\n",
      "async\n",
      "await\n",
      "break\n",
      "class\n",
      "continue\n",
      "def\n",
      "del\n",
      "elif\n",
      "else\n",
      "except\n",
      "finally\n",
      "for\n",
      "from\n",
      "global\n",
      "if\n",
      "import\n",
      "in\n",
      "is\n",
      "lambda\n",
      "nonlocal\n",
      "not\n",
      "or\n",
      "pass\n",
      "raise\n",
      "return\n",
      "try\n",
      "while\n",
      "with\n",
      "yield\n"
     ]
    }
   ],
   "source": [
    "import keyword\n",
    "for i in keyword.kwlist:\n",
    "    print (i)"
   ]
  },
  {
   "cell_type": "code",
   "execution_count": null,
   "id": "b96f6f10",
   "metadata": {},
   "outputs": [],
   "source": [
    "'''Q.2. What are the rules to create variables in python?\n",
    "a - variable names must start with an alphabet or underscore, they cannot start with a number\n",
    "b - variable names are case sensitive\n",
    "c - variable names cannot be keywords.\n",
    "d - they can only have alphabets , numbers or underscores. no special characters allowed.'''"
   ]
  },
  {
   "cell_type": "code",
   "execution_count": null,
   "id": "e9e02ee7",
   "metadata": {},
   "outputs": [],
   "source": [
    "'''Q.3. What are the standards and conventions followed for the nomenclature of variables in\n",
    "python to improve code readability and maintainability?\n",
    "A3. some of the most common conventions for naming variables are-\n",
    "     a- using descriptive variables eg student_name , age etc\n",
    "     b- using plural names for collections\n",
    "     c- using lowercase with underscores\n",
    "     d- using comments for clarity\n",
    "     e- using prefixes to represent datatype eg. int_marks , str_name'''"
   ]
  },
  {
   "cell_type": "code",
   "execution_count": 4,
   "id": "4fb4481c",
   "metadata": {},
   "outputs": [
    {
     "ename": "SyntaxError",
     "evalue": "invalid syntax (1449283628.py, line 2)",
     "output_type": "error",
     "traceback": [
      "\u001b[1;36m  Cell \u001b[1;32mIn[4], line 2\u001b[1;36m\u001b[0m\n\u001b[1;33m    class = \"4b\"\u001b[0m\n\u001b[1;37m          ^\u001b[0m\n\u001b[1;31mSyntaxError\u001b[0m\u001b[1;31m:\u001b[0m invalid syntax\n"
     ]
    }
   ],
   "source": [
    "'''Q.4. What will happen if a keyword is used as a variable name?'''\n",
    "class = \"4b\"\n",
    "\n",
    "    \n",
    "        "
   ]
  },
  {
   "cell_type": "code",
   "execution_count": null,
   "id": "e1ac0a9a",
   "metadata": {},
   "outputs": [],
   "source": [
    "'''Q.5. For what purpose def keyword is used?\n",
    "A5. def is used by users when they want to define a function in their code. Functions are used to set blocks of commands that \n",
    "can be reused for a specific function.'''"
   ]
  },
  {
   "cell_type": "code",
   "execution_count": null,
   "id": "1954c06b",
   "metadata": {},
   "outputs": [],
   "source": [
    "'''Q.6. What is the operation of this special character ‘\\’?\n",
    "A6. in Python , \\ can be used to showcase that the character following the backlash has a special purpose and should be treated\n",
    "differently from its regular meaning.eg - \\n for newline character .'''"
   ]
  },
  {
   "cell_type": "code",
   "execution_count": null,
   "id": "dcfa71ef",
   "metadata": {},
   "outputs": [],
   "source": [
    "'''q7.Q.7. Give an example of the following conditions:\n",
    "(i) Homogeneous list - it contains data of the same datatype eg - [1,2,3,4,5]\n",
    "(ii) Heterogeneous set - it contains unique values which are of different datatypes. eg {1,2,\"str\",[1,2,3]}\n",
    "(iii) Homogeneous tuple - like a list a homogenous tupe would contain data of same datatype'''"
   ]
  },
  {
   "cell_type": "code",
   "execution_count": 6,
   "id": "b19c8cdd",
   "metadata": {},
   "outputs": [
    {
     "name": "stdout",
     "output_type": "stream",
     "text": [
      "[9, 2, 3, 4, 5]\n"
     ]
    }
   ],
   "source": [
    "'''Q.8. Explain the mutable and immutable data types with proper explanation & examples.\n",
    "mutable datatypes- their values can be changed or modified even after they are already created.for eg.lists, variables etc'''\n",
    "l1=[1,2,3,4,5]\n",
    "l1[0]=9\n",
    "print(l1)"
   ]
  },
  {
   "cell_type": "code",
   "execution_count": 12,
   "id": "ab1ee864",
   "metadata": {},
   "outputs": [
    {
     "ename": "TypeError",
     "evalue": "'tuple' object does not support item assignment",
     "output_type": "error",
     "traceback": [
      "\u001b[1;31m---------------------------------------------------------------------------\u001b[0m",
      "\u001b[1;31mTypeError\u001b[0m                                 Traceback (most recent call last)",
      "Cell \u001b[1;32mIn[12], line 3\u001b[0m\n\u001b[0;32m      1\u001b[0m \u001b[38;5;124;03m'''immutable datatypes - their values cannot be changed or modified once they are created.for eg - tuples'''\u001b[39;00m\n\u001b[0;32m      2\u001b[0m t1\u001b[38;5;241m=\u001b[39m(\u001b[38;5;241m1\u001b[39m,\u001b[38;5;241m2\u001b[39m,\u001b[38;5;241m3\u001b[39m,\u001b[38;5;241m4\u001b[39m,\u001b[38;5;241m5\u001b[39m)\n\u001b[1;32m----> 3\u001b[0m t1[\u001b[38;5;241m0\u001b[39m]\u001b[38;5;241m=\u001b[39m\u001b[38;5;241m10\u001b[39m\n\u001b[0;32m      4\u001b[0m \u001b[38;5;28mprint\u001b[39m(t1)\n",
      "\u001b[1;31mTypeError\u001b[0m: 'tuple' object does not support item assignment"
     ]
    }
   ],
   "source": [
    "'''immutable datatypes - their values cannot be changed or modified once they are created.for eg - tuples'''\n",
    "t1=(1,2,3,4,5)\n",
    "t1[0]=10\n",
    "print(t1)\n"
   ]
  },
  {
   "cell_type": "code",
   "execution_count": null,
   "id": "b0c022e3",
   "metadata": {},
   "outputs": [],
   "source": [
    "'''Q.9. Write a code to create the given structure using only for loop.\n",
    "    *\n",
    "   ***\n",
    "  *****\n",
    " *******\n",
    "*********'''"
   ]
  },
  {
   "cell_type": "code",
   "execution_count": 19,
   "id": "8a551cfc",
   "metadata": {},
   "outputs": [
    {
     "name": "stdout",
     "output_type": "stream",
     "text": [
      "              \n",
      "            * \n",
      "          * * * \n",
      "        * * * * * \n",
      "      * * * * * * * \n",
      "    * * * * * * * * * \n"
     ]
    }
   ],
   "source": [
    "n=6\n",
    "for i in range(n):\n",
    "    for j in range(i,n+1):\n",
    "        print(\" \",end=\" \")\n",
    "    for j in range(i):\n",
    "        print(\"*\",end=\" \")\n",
    "    for j in range(i-1):\n",
    "        print(\"*\",end=\" \")\n",
    "    print()"
   ]
  },
  {
   "cell_type": "code",
   "execution_count": null,
   "id": "201f7901",
   "metadata": {},
   "outputs": [],
   "source": [
    "'''Q.10. Write a code to create the given structure using while loop.\n",
    "|||||||||\n",
    " |||||||\n",
    "  |||||\n",
    "   |||\n",
    "    |'''"
   ]
  },
  {
   "cell_type": "code",
   "execution_count": 25,
   "id": "1e65a1a0",
   "metadata": {},
   "outputs": [
    {
     "name": "stdout",
     "output_type": "stream",
     "text": [
      "  | | | | | | | | | \n",
      "    | | | | | | | \n",
      "      | | | | | \n",
      "        | | | \n",
      "          | \n"
     ]
    }
   ],
   "source": [
    "n=5\n",
    "for i in range(n):\n",
    "    for j in range(i+1):\n",
    "        print(\" \",end=\" \")\n",
    "    for j in range(i,n):\n",
    "        print(\"|\",end=\" \")\n",
    "    for j in range(i,n-1):\n",
    "        print(\"|\",end=\" \")\n",
    "    print()\n"
   ]
  },
  {
   "cell_type": "code",
   "execution_count": null,
   "id": "a48cd4d8",
   "metadata": {},
   "outputs": [],
   "source": []
  }
 ],
 "metadata": {
  "kernelspec": {
   "display_name": "Python 3 (ipykernel)",
   "language": "python",
   "name": "python3"
  },
  "language_info": {
   "codemirror_mode": {
    "name": "ipython",
    "version": 3
   },
   "file_extension": ".py",
   "mimetype": "text/x-python",
   "name": "python",
   "nbconvert_exporter": "python",
   "pygments_lexer": "ipython3",
   "version": "3.10.9"
  }
 },
 "nbformat": 4,
 "nbformat_minor": 5
}
